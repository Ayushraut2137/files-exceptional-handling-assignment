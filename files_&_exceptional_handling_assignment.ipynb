{
  "nbformat": 4,
  "nbformat_minor": 0,
  "metadata": {
    "colab": {
      "provenance": []
    },
    "kernelspec": {
      "name": "python3",
      "display_name": "Python 3"
    },
    "language_info": {
      "name": "python"
    }
  },
  "cells": [
    {
      "cell_type": "markdown",
      "source": [
        "# files & exceptional handling assignment\n"
      ],
      "metadata": {
        "id": "ujJryp-z9txy"
      }
    },
    {
      "cell_type": "markdown",
      "source": [
        "1. What is the difference between interpreted and compiled languages?\n",
        "--> a. Interpreted Languages:\n",
        "\n",
        "Code is executed line by line by an interpreter.\n",
        "\n",
        "No separate compilation step is needed before running the program.\n",
        "\n",
        "Slower execution since code is translated on the fly.\n",
        "\n",
        "More flexible, allowing for dynamic typing and easier debugging.\n",
        "\n",
        "Examples: Python, JavaScript, Ruby, PHP\n",
        "\n",
        "b. Compiled Languages:\n",
        "\n",
        "Code is translated all at once into machine code by a compiler.\n",
        "\n",
        "The resulting executable file runs directly on the computer.\n",
        "\n",
        "Faster execution since translation happens only once.\n",
        "\n",
        "Requires a compilation step, making debugging slightly more involved.\n",
        "\n",
        "Examples: C, C++, Rust, Go\n",
        "\n",
        "2. What is exception handling in Python?\n",
        "--> Exception handling in Python is a way to manage runtime errors gracefully, preventing programs from crashing unexpectedly. It allows developers to detect errors, respond appropriately, and maintain program flow.\n",
        "\n",
        "3. What is the purpose of the finally block in exception handling?\n",
        "--> The finally block in Python is used to execute cleanup code that should run no matter what—whether an exception occurs or not. It ensures that important final actions, such as releasing resources (closing files, database connections, etc.), always happen.\n",
        "\n",
        "4. What is logging in Python?\n",
        "--> Logging in Python is used to track events that happen during program execution. It helps developers debug issues, monitor applications, and analyze behavior without using excessive print() statements.\n",
        "\n",
        "5. What is the significance of the __del__ method in Python?\n",
        "--> The __del__ method in Python is a destructor that is automatically called when an object is about to be destroyed (i.e., when its reference count drops to zero). It is used for cleanup operations, such as closing files, releasing network resources, or freeing memory.\n",
        "\n",
        "6. What is the difference between import and from ... import in Python?\n",
        "--> a. import Statement :\n",
        "\n",
        "Imports the entire module.\n",
        "\n",
        "You must use the module name to access its functions or variables.\n",
        "\n",
        "Prevents name conflicts.\n",
        "\n",
        "Clearly shows where functions come from.\n",
        "\n",
        "b. from ... import Statement :      \n",
        "\n",
        "Imports specific functions, classes, or variables directly from a module.\n",
        "\n",
        "No need to use the module name when calling them.\n",
        "\n",
        "Makes code shorter and cleaner.\n",
        "\n",
        "Improves readability when only a few functions are needed.\n",
        "\n",
        "7. How can you handle multiple exceptions in Python?\n",
        "--> Handling Multiple Exceptions in Python\n",
        "\n",
        "When a program can raise multiple types of exceptions, you can handle them in different ways using try-except blocks.\n",
        "\n",
        "a. Using Multiple except Blocks:\n",
        "\n",
        "You can catch different exceptions separately and handle them differently.\n",
        "\n",
        "b. Catching Multiple Exceptions in One except Block :\n",
        "\n",
        "If you want to handle multiple exceptions in the same way, use a tuple\n",
        "\n",
        "c. Using finally for Cleanup :\n",
        "\n",
        "The finally block runs no matter what (even if an exception occurs).\n",
        "\n",
        "d. Using else with try-except :\n",
        "\n",
        "The else block runs only if no exceptions occur.\n",
        "\n",
        "e. Raising Custom Exceptions :\n",
        "\n",
        "You can define and handle custom exceptions when needed.\n",
        "\n",
        "8. What is the purpose of the with statement when handling files in Python?\n",
        "--> Purpose of the with Statement in File Handling (Python)\n",
        "\n",
        "The with statement in Python is used to simplify file handling by ensuring that resources (like files) are properly closed after they are used, even if an error occurs.\n",
        "\n",
        "9. What is the difference between multithreading and multiprocessing?\n",
        "--> a. Multithreading :\n",
        "\n",
        " Uses threads (lightweight processes) within the same process\n",
        "\n",
        " Shares memory (global variables, data structures) between threads\n",
        "\n",
        " Best for I/O-bound tasks (waiting for input/output, like file I/O, network requests)\n",
        "\n",
        "Limited by the Global Interpreter Lock (GIL) in Python (only one thread executes Python bytecode at a time)\n",
        "\n",
        "b. Multiprocessing :\n",
        "\n",
        " Uses multiple processes (each with its own memory space)\n",
        "\n",
        " Bypasses the GIL, allowing true parallel execution\n",
        "\n",
        " Best for CPU-bound tasks (heavy computations like data processing, machine learning)\n",
        "\n",
        " Processes require more memory and startup time than threads\n",
        "\n",
        "10. What are the advantages of using logging in a program?\n",
        "--> Advantages of Using Logging in a Program\n",
        "\n",
        "a. Debugging & Issue Tracking :\n",
        "\n",
        " Helps Identify Errors – Logs provide a history of execution, making it easier to trace and debug issues.\n",
        "\n",
        " Captures Stack Traces – When an error occurs, logging can capture the exception details automatically.\n",
        "\n",
        "b. Better Control Over Output :\n",
        "\n",
        " Custom Formatting – Logs can include timestamps, log levels, and messages.\n",
        "\n",
        " Different Log Levels – Control what gets logged (DEBUG, INFO, WARNING, ERROR, CRITICAL).\n",
        "\n",
        " c. Saves Logs to a File for Future Analysis :\n",
        "\n",
        " Persistent Logs – Unlike print(), logs can be stored in a file for later review.\n",
        "\n",
        " d. Works in Multi-Threaded & Multi-Process Programs :\n",
        "\n",
        " Thread-Safe – Logs can track events from multiple threads or processes without mixing up outputs.\n",
        "\n",
        " e. Can Be Integrated with Monitoring Systems :\n",
        "\n",
        " Sends Logs to Remote Servers – Useful for cloud-based applications and log monitoring services (e.g., ELK Stack, Splunk).\n",
        "\n",
        " Real-Time Alerts – Can trigger alerts for critical errors.\n",
        "\n",
        " f. Enables Log Analysis & Performance Monitoring :\n",
        "\n",
        "Detects Performance Bottlenecks – Track slow processes using timestamps.\n",
        "\n",
        "Analyzes User Behavior – In web apps, logging user actions helps understand behavior.\n",
        "\n",
        "g. Configurable and Flexible :\n",
        "\n",
        "Multiple Output Destinations – Logs can be sent to files, databases, or remote servers.\n",
        "\n",
        " Customizable Handlers & Formatters – Fine-tune logging output without modifying code.\n",
        "\n",
        "11. What is memory management in Python?\n",
        "--> Memory management in Python is the process of allocating, tracking, and deallocating memory for objects in a program. Python automatically handles memory using techniques like garbage collection, reference counting, and memory pools, making it efficient and developer-friendly.\n",
        "\n",
        "12. What are the basic steps involved in exception handling in Python?\n",
        "--> Exception handling in Python allows you to manage runtime errors and prevent crashes. The basic steps include:\n",
        "\n",
        "a. Try Block: Write the Risky Code :\n",
        "\n",
        "The try block contains the code that might raise an exception.\n",
        "\n",
        "b. Except Block: Handle the Exception :\n",
        "\n",
        "The except block catches specific or general exceptions and handles them.\n",
        "\n",
        "c. Else Block: Run Code If No Exception Occurs :\n",
        "\n",
        "The else block executes only if no exceptions were raised.\n",
        "\n",
        "d. Finally Block: Clean Up Resources :\n",
        "\n",
        "The finally block always executes, whether an exception occurs or not.\n",
        "\n",
        "13. Why is memory management important in Python?\n",
        "--> Memory management in Python is crucial because it ensures efficient use of system resources, prevents memory leaks, and improves program performance. Since Python is dynamically typed and automatically manages memory, understanding its memory management helps developers write faster and more optimized code.\n",
        "\n",
        "Importance of memory management :    \n",
        "\n",
        "a. Prevents Memory Leaks :\n",
        "\n",
        "Memory leaks happen when objects are not properly deallocated.\n",
        "\n",
        "Python uses automatic garbage collection, but improper references (like circular references) can still cause leaks.\n",
        "\n",
        "b. Improves Performance :\n",
        "\n",
        "Poor memory usage can slow down programs.\n",
        "\n",
        "Efficient memory handling reduces CPU overhead and keeps applications responsive.\n",
        "\n",
        "c. Optimizes Resource Allocation :\n",
        "\n",
        "Python uses memory pools (like pymalloc) for small objects.\n",
        "\n",
        "Objects are reused efficiently to avoid repeated memory allocation.\n",
        "\n",
        "d. Prevents Out-of-Memory (OOM) Errors :\n",
        "\n",
        "In big data, web applications, or AI models, excessive memory usage can crash programs.\n",
        "\n",
        "Python offers manual garbage collection and profiling tools.\n",
        "\n",
        "e. Supports Multi-Threading & Multi-Processing :\n",
        "\n",
        "Threads share memory, while processes have separate memory.\n",
        "\n",
        "Poor memory handling can lead to deadlocks or excessive memory use.\n",
        "\n",
        "f. Helps Debug Memory-Intensive Applications :\n",
        "\n",
        "Memory profiling tools (memory_profiler, tracemalloc) help identify high-memory functions.\n",
        "\n",
        "14. What is the role of try and except in exception handling?\n",
        "--> Role of try and except in Exception Handling in Python:\n",
        "\n",
        "In Python, try and except blocks are used to handle runtime errors (exceptions) gracefully instead of allowing the program to crash.\n",
        "\n",
        "a. try Block: Detects Potential Errors :\n",
        "\n",
        "The try block contains code that might raise an exception. If an error occurs, the program immediately jumps to the except block.\n",
        "\n",
        "b. except Block: Handles the Exception :\n",
        "\n",
        "If an exception occurs in the try block, execution moves to the corresponding except block.\n",
        "\n",
        "c. Handling Multiple Exceptions in One except Block :\n",
        "\n",
        "You can catch multiple exceptions in a single except block.\n",
        "\n",
        "d. Catching All Exceptions :\n",
        "\n",
        "You can use except Exception: to catch any error, but it's usually better to handle specific exceptions.\n",
        "\n",
        "e. Using else with try-except :\n",
        "\n",
        "The else block runs only if no exception occurs.\n",
        "\n",
        "f. Using finally: Runs No Matter What:\n",
        "\n",
        "The finally block runs whether an exception occurs or not (useful for cleanup operations).\n",
        "\n",
        "15. F How does Python's garbage collection system work?\n",
        "--> Python's garbage collection (GC) system automatically manages memory by reclaiming unused objects, preventing memory leaks, and optimizing performance. It primarily relies on reference counting and cyclic garbage collection.\n",
        "\n",
        "a. Reference Counting (Primary Mechanism):\n",
        "\n",
        "Python keeps track of how many references exist for each object. When an object’s reference count drops to zero, Python automatically deallocates its memory.\n",
        "\n",
        "b. Issue: Cyclic References (Memory Leak Risk):\n",
        "\n",
        "Reference counting fails when objects reference each other, creating a cycle.\n",
        "\n",
        "c. Cyclic Garbage Collection (Fixing Circular References):\n",
        "\n",
        "Python uses a cyclic garbage collector to detect and remove objects with circular references.\n",
        "\n",
        "16. What is the purpose of the else block in exception handling?\n",
        "--> The else block in Python's exception handling executes only if no exception occurs in the try block. It is useful for separating successful code execution from error handling, improving readability and logic flow.\n",
        "\n",
        "17. What are the common logging levels in Python?\n",
        "--> Python’s logging module provides five standard logging levels to indicate the severity of messages. These levels help categorize log messages based on importance, making debugging and monitoring easier.\n",
        "\n",
        "Python Logging Levels:\n",
        "\n",
        "DEBUG – Detailed diagnostic information (for developers).\n",
        "\n",
        "INFO – General information about the program’s state.\n",
        "\n",
        "WARNING – Something unexpected, but the program continues.\n",
        "\n",
        "\n",
        "ERROR – A major issue that prevents part of the program from running.\n",
        "\n",
        "CRITICAL – A severe error that could crash the system.\n",
        "\n",
        "18. What is the difference between os.fork() and multiprocessing in Python?\n",
        "--> a. os.fork(): Low-Level Process Creation:\n",
        "\n",
        "os.fork() is a UNIX-specific function that creates a new process (child process) by duplicating the parent process.\n",
        "\n",
        "It is not available on Windows.\n",
        "\n",
        "The child process inherits memory space from the parent.\n",
        "\n",
        "The return value helps differentiate between the parent and child processes.\n",
        "\n",
        "b. multiprocessing Module: High-Level API for Process Management :    \n",
        "\n",
        "Works on both Windows and UNIX.\n",
        "\n",
        "Creates separate memory space for each process (prevents shared memory issues).\n",
        "\n",
        "Uses Process class to create and manage processes easily.\n",
        "\n",
        "19. What is the importance of closing a file in Python?\n",
        "--> When working with files in Python, it is essential to close the file after performing read/write operations. The .close() method ensures that system resources are released and that data is correctly written to the file.\n",
        "\n",
        "importance of closing a file in Python :    \n",
        "\n",
        "a. Releases System Resources (Memory & File Descriptors):\n",
        "\n",
        "Each open file uses system resources (file descriptors, memory).\n",
        "\n",
        "If too many files remain open, the system might run out of file descriptors.\n",
        "\n",
        "b. Ensures Data Is Properly Written (File Buffering):\n",
        "\n",
        "In Python, writing data to a file does not immediately store it on disk.\n",
        "\n",
        "Data is stored in a buffer, and calling .close() flushes it to the file.\n",
        "\n",
        "If a program crashes before calling .close(), data might be lost.\n",
        "\n",
        "c. Prevents Data Corruption:\n",
        "\n",
        "If multiple processes access a file simultaneously, not closing it properly can\n",
        "lead to corruption.\n",
        "\n",
        "Especially important when appending or modifying files.\n",
        "\n",
        "d. Alternative: Using with Statement (Auto-Close):\n",
        "\n",
        "Instead of manually calling .close(), use with open(...) to automatically close the file.\n",
        "\n",
        "20. What is the difference between file.read() and file.readline() in Python?\n",
        "--> a. file.read() – Reads the Entire File:\n",
        "\n",
        "Reads the whole file (default) or a specified number of characters.\n",
        "\n",
        "Useful when you want to process the entire file at once.\n",
        "\n",
        "If used multiple times, it returns an empty string after reaching the end of the file.\n",
        "\n",
        "b. file.readline() :\n",
        "Reads One Line at a Time\n",
        "\n",
        "Reads a single line from the file (until \\n).\n",
        "\n",
        "Each call moves the file pointer to the next line.\n",
        "\n",
        "Useful when processing a file line by line.\n",
        "\n",
        "21. What is the logging module in Python used for?\n",
        "--> The logging module in Python is used for tracking events, debugging, and monitoring applications. Instead of using print() for debugging, logging provides a structured and flexible way to capture important information.\n",
        "\n",
        "\n",
        "Use of logging module :    \n",
        "\n",
        "Better Control – You can log messages at different severity levels.\n",
        "\n",
        " Stores Logs – Can write logs to files, databases, or external systems.\n",
        "\n",
        " Filters Messages – Shows only important logs and ignores less useful ones.\n",
        "\n",
        " Debugging in Production – Useful for tracking issues without modifying code.\n",
        "\n",
        " Thread-Safe – Works well in multithreading and multiprocessing applications.\n",
        "\n",
        "22. What is the os module in Python used for in file handling?\n",
        "--> The os module in Python provides functions to interact with the operating system, including file handling tasks such as creating, deleting, renaming, moving, and checking files & directories.\n",
        "\n",
        "Use of os Module for File Handling :\n",
        "\n",
        "Works Across Platforms – Compatible with Windows, macOS, and Linux.\n",
        "\n",
        " Manipulates Files & Directories – Allows creating, deleting, and modifying files.\n",
        "\n",
        " Interacts with System Paths – Helps navigate directories dynamically.\n",
        "\n",
        " Automates File Management – Useful for scripts that process many files.\n",
        "\n",
        "23. What are the challenges associated with memory management in Python?\n",
        "--> Challenges Associated with Memory Management in Python :\n",
        "\n",
        "Python has automatic memory management, meaning it handles memory allocation and deallocation for you. However, there are still challenges that developers should be aware of.\n",
        "\n",
        "a. Garbage Collection Overhead:\n",
        "\n",
        " Python uses garbage collection (GC) to clean up unused objects, but:\n",
        "It doesn’t always immediately free memory, leading to memory bloat.\n",
        "\n",
        "b. Reference Cycles & Memory Leaks:\n",
        "\n",
        " Python’s garbage collector struggles with circular references, where two objects reference each other, preventing automatic cleanup.\n",
        "\n",
        "c. High Memory Usage Due to Object Mutability:\n",
        "\n",
        " Python objects, especially lists, dictionaries, and sets, can consume more memory than expected due to dynamic resizing and hashing.\n",
        "\n",
        " Small objects like integers and strings are interned (cached), but large mutable objects stay in memory longer than needed.\n",
        "\n",
        "d. Global Interpreter Lock (GIL) & Multithreading Issues:\n",
        "\n",
        "\n",
        " Python’s GIL (Global Interpreter Lock) restricts multiple threads from running Python code in parallel, which affects memory efficiency in multithreaded programs.\n",
        "\n",
        " This can lead to high memory usage and inefficiencies when running CPU-bound tasks.\n",
        "\n",
        "e. Fragmentation & Overhead from Small Object Allocation :\n",
        "\n",
        "Python doesn’t always return freed memory to the OS, leading to fragmentation.\n",
        "\n",
        " Memory is managed by pools, so small objects may create memory bloat even after they are deleted.\n",
        "\n",
        "24. How do you raise an exception manually in Python?\n",
        "--> In Python, you can manually raise an exception using the raise keyword. This is useful when you want to enforce certain conditions, stop execution on an error, or customize error messages.\n",
        "\n",
        "Syntax -\n",
        "\n",
        "raise Exception(\"This is a custom error message\")\n",
        "\n",
        "25. Why is it important to use multithreading in certain applications\n",
        "-->  Importance of using multithreading :    \n",
        "\n",
        "Multithreading allows a program to execute multiple threads concurrently, improving performance and responsiveness in applications where tasks can be done in parallel.\n",
        "\n",
        "a. Improves Responsiveness (UI & Real-Time Applications):\n",
        "\n",
        " In GUI applications, a single-threaded program can freeze when performing a long task.\n",
        "\n",
        " Multithreading keeps the UI responsive while heavy computations run in the background.\n",
        "\n",
        "b. Faster Performance for I/O-Bound Tasks:\n",
        "\n",
        "\n",
        " Multithreading is great for I/O-bound tasks such as:\n",
        "\n",
        " Reading/writing files\n",
        "\n",
        " Making network requests\n",
        "\n",
        " Database queries\n",
        "\n",
        "c. Efficient Resource Utilization:\n",
        "\n",
        " In single-threaded programs, the CPU remains idle while waiting for I/O operations (e.g., file reads, network requests).\n",
        "\n",
        " Multithreading keeps the CPU busy, improving resource utilization.\n",
        "\n",
        "d. Useful for Background Tasks:\n",
        "\n",
        " Background tasks like logging, auto-saving, and monitoring can run in separate threads without blocking the main program.\n",
        "\n",
        "e. Better User Experience in Games & Simulations:\n",
        "\n",
        " Games and real-time applications need to handle multiple tasks simultaneously, such as:\n",
        "\n",
        " Rendering graphics\n",
        "\n",
        " Handling user input\n",
        "\n",
        " Running AI or physics simulations\n",
        "\n",
        "\n",
        "\n",
        "\n",
        "\n",
        "\n",
        "\n",
        "\n",
        "\n",
        "\n",
        "\n",
        "\n",
        "\n",
        "\n",
        "\n",
        "\n",
        "\n",
        "\n"
      ],
      "metadata": {
        "id": "gZz1Rey790DV"
      }
    },
    {
      "cell_type": "code",
      "execution_count": 5,
      "metadata": {
        "id": "CS8mAbbN9psA"
      },
      "outputs": [],
      "source": [
        "#  How can you open a file for writing in Python and write a string to it?\n",
        "\n",
        "# Open a file in write mode\n",
        "file = open(\"example.txt\", \"w\")\n",
        "\n",
        "# Write a string to the file\n",
        "file.write(\"Hello, this is a test message!\")\n",
        "\n",
        "# Close the file\n",
        "file.close()\n",
        "\n",
        "with open(\"example.txt\", \"w\") as file:\n",
        "    file.write(\"This is written using 'with open()'!\")\n",
        "\n",
        "lines = [\"Line 1\\n\", \"Line 2\\n\", \"Line 3\\n\"]\n",
        "\n",
        "with open(\"example.txt\", \"w\") as file:\n",
        "    file.writelines(lines)\n",
        "\n",
        "with open(\"example.txt\", \"a\") as file:\n",
        "    file.write(\"\\nThis line is appended instead of overwriting!\")"
      ]
    },
    {
      "cell_type": "code",
      "source": [
        "# Write a Python program to read the contents of a file and print each line\n",
        "\n",
        "with open(\"example.txt\", \"r\") as file:\n",
        "    # Read and print each line\n",
        "    for line in file:\n",
        "        print(line.strip())  # strip() removes extra newline characters\n"
      ],
      "metadata": {
        "colab": {
          "base_uri": "https://localhost:8080/"
        },
        "id": "rzF32mJ8dCFt",
        "outputId": "68b41f8d-d567-463d-f41c-6c4d7bdd300b"
      },
      "execution_count": 6,
      "outputs": [
        {
          "output_type": "stream",
          "name": "stdout",
          "text": [
            "Line 1\n",
            "Line 2\n",
            "Line 3\n",
            "\n",
            "This line is appended instead of overwriting!\n"
          ]
        }
      ]
    },
    {
      "cell_type": "code",
      "source": [
        "# How would you handle a case where the file doesn't exist while trying to open it for reading\n",
        "\n",
        "try:\n",
        "    # Attempt to open a non-existent file\n",
        "    with open(\"non_existent_file.txt\", \"r\") as file:\n",
        "        content = file.read()\n",
        "        print(content)\n",
        "except FileNotFoundError:\n",
        "    print(\"Error: The file does not exist. Please check the file name and path.\")\n"
      ],
      "metadata": {
        "colab": {
          "base_uri": "https://localhost:8080/"
        },
        "id": "iz3vC9pldURy",
        "outputId": "fb290595-2216-4375-cbab-114a1ad68945"
      },
      "execution_count": 7,
      "outputs": [
        {
          "output_type": "stream",
          "name": "stdout",
          "text": [
            "Error: The file does not exist. Please check the file name and path.\n"
          ]
        }
      ]
    },
    {
      "cell_type": "code",
      "source": [
        "# Write a Python script that reads from one file and writes its content to another file\n",
        "\n",
        "\n",
        "def copy_file(sample_file, destination_file):\n",
        "    try:\n",
        "        # Open the source file for reading\n",
        "        with open(sample_file, \"r\") as src:\n",
        "            content = src.read()\n",
        "\n",
        "        # Open the destination file for writing\n",
        "        with open(destination_file, \"w\") as dest:\n",
        "            dest.write(content)\n",
        "\n",
        "        print(f\"Content copied successfully from {sample_file} to {destination_file}.\")\n",
        "\n",
        "    except FileNotFoundError:\n",
        "        print(f\"Error: The file '{sample_file}' does not exist.\")\n",
        "    except Exception as e:\n",
        "        print(f\"An error occurred: {e}\")\n",
        "\n",
        "# Example usage\n",
        "source = \"sample.txt\"\n",
        "destination = \"destination.txt\"\n",
        "copy_file(source, destination)\n",
        "\n"
      ],
      "metadata": {
        "colab": {
          "base_uri": "https://localhost:8080/"
        },
        "id": "s7zT-6ubd9Zx",
        "outputId": "8c259666-7e65-450f-86f5-1f910d0c70c4"
      },
      "execution_count": 106,
      "outputs": [
        {
          "output_type": "stream",
          "name": "stdout",
          "text": [
            "Content copied successfully from sample.txt to destination.txt.\n"
          ]
        }
      ]
    },
    {
      "cell_type": "code",
      "source": [
        "# How would you catch and handle division by zero error in Python\n",
        "\n",
        "try:\n",
        "    # Attempting division\n",
        "    result = 10 / 0  # This will raise ZeroDivisionError\n",
        "except ZeroDivisionError:\n",
        "    print(\"Error: Division by zero is not allowed.\")\n"
      ],
      "metadata": {
        "colab": {
          "base_uri": "https://localhost:8080/"
        },
        "id": "IIfdzZ6Jefb-",
        "outputId": "7af634e9-9181-4a5e-9cf0-8ed70357664b"
      },
      "execution_count": 11,
      "outputs": [
        {
          "output_type": "stream",
          "name": "stdout",
          "text": [
            "Error: Division by zero is not allowed.\n"
          ]
        }
      ]
    },
    {
      "cell_type": "code",
      "source": [
        "# Write a Python program that logs an error message to a log file when a division by zero exception occurs\n",
        "\n",
        "import logging\n",
        "\n",
        "# Configure logging settings\n",
        "logging.basicConfig(filename=\"error.log\", level=logging.ERROR,\n",
        "                    format=\"%(asctime)s - %(levelname)s - %(message)s\")\n",
        "\n",
        "def safe_divide(a, b):\n",
        "    try:\n",
        "        return a / b\n",
        "    except ZeroDivisionError:\n",
        "        logging.error(\"Attempted to divide by zero.\")  # Log the error\n",
        "        return \"Error: Division by zero is not allowed.\"\n",
        "\n",
        "# Example usage\n",
        "result = safe_divide(10, 0)\n",
        "print(result)\n",
        "\n",
        "print(\"Error (if any) has been logged to 'error.log'.\")\n"
      ],
      "metadata": {
        "colab": {
          "base_uri": "https://localhost:8080/"
        },
        "id": "yTVPYx0Gety6",
        "outputId": "ecc1f050-1608-4de7-af36-740170986f37"
      },
      "execution_count": 12,
      "outputs": [
        {
          "output_type": "stream",
          "name": "stderr",
          "text": [
            "ERROR:root:Attempted to divide by zero.\n"
          ]
        },
        {
          "output_type": "stream",
          "name": "stdout",
          "text": [
            "Error: Division by zero is not allowed.\n",
            "Error (if any) has been logged to 'error.log'.\n"
          ]
        }
      ]
    },
    {
      "cell_type": "code",
      "source": [
        "# How do you log information at different levels (INFO, ERROR, WARNING) in Python using the logging module\n",
        "\n",
        "import logging\n",
        "\n",
        "# Configure logging\n",
        "logging.basicConfig(\n",
        "    filename=\"app.log\",     # Log file\n",
        "    level=logging.DEBUG,    # Set minimum level to DEBUG\n",
        "    format=\"%(asctime)s - %(levelname)s - %(message)s\" # Log format\n",
        ")\n",
        "\n",
        "# Logging messages at different levels\n",
        "logging.debug(\"This is a DEBUG message: Useful for troubleshooting.\")\n",
        "logging.info(\"This is an INFO message: General program information.\")\n",
        "logging.warning(\"This is a WARNING message: Something might be wrong.\")\n",
        "logging.error(\"This is an ERROR message: A serious issue occurred.\")\n",
        "logging.critical(\"This is a CRITICAL message: The program may crash.\")\n",
        "\n",
        "print(\"Logging complete. Check 'app.log' for details.\")\n"
      ],
      "metadata": {
        "colab": {
          "base_uri": "https://localhost:8080/"
        },
        "id": "2Nn3U7sKe4La",
        "outputId": "788ee0b1-46c4-496c-c265-f80929af51db"
      },
      "execution_count": 1,
      "outputs": [
        {
          "output_type": "stream",
          "name": "stderr",
          "text": [
            "WARNING:root:This is a WARNING message: Something might be wrong.\n",
            "ERROR:root:This is an ERROR message: A serious issue occurred.\n",
            "CRITICAL:root:This is a CRITICAL message: The program may crash.\n"
          ]
        },
        {
          "output_type": "stream",
          "name": "stdout",
          "text": [
            "Logging complete. Check 'app.log' for details.\n"
          ]
        }
      ]
    },
    {
      "cell_type": "code",
      "source": [
        "#Write a program to handle a file opening error using exception handling\n",
        "\n",
        "try:\n",
        "    # Attempt to open a non-existent or restricted file\n",
        "    with open(\"non_existent_file.txt\", \"r\") as file:\n",
        "        content = file.read()\n",
        "        print(content)\n",
        "\n",
        "except FileNotFoundError:\n",
        "    print(\"Error: The file does not exist. Please check the file name and path.\")\n",
        "\n",
        "except PermissionError:\n",
        "    print(\"Error: You do not have permission to access this file.\")\n",
        "\n",
        "except Exception as e:\n",
        "    print(f\"An unexpected error occurred: {e}\")\n"
      ],
      "metadata": {
        "colab": {
          "base_uri": "https://localhost:8080/"
        },
        "id": "pPdG-bvpBnlI",
        "outputId": "b55c9a10-041d-457a-e35b-217deeeff13f"
      },
      "execution_count": 2,
      "outputs": [
        {
          "output_type": "stream",
          "name": "stdout",
          "text": [
            "Error: The file does not exist. Please check the file name and path.\n"
          ]
        }
      ]
    },
    {
      "cell_type": "code",
      "source": [
        "# How can you read a file line by line and store its content in a list in Python\n",
        "\n",
        "# Open the file and read line by line\n",
        "with open(\"sample.txt\", \"r\") as file:\n",
        "    lines = file.readlines()  # Reads all lines into a list\n",
        "\n",
        "# Remove trailing newline characters\n",
        "lines = [line.strip() for line in lines]\n",
        "\n",
        "print(lines)\n",
        "\n"
      ],
      "metadata": {
        "colab": {
          "base_uri": "https://localhost:8080/"
        },
        "id": "_PUN03EQCTXU",
        "outputId": "33fe12ac-ef76-46fd-e121-73238520ce28"
      },
      "execution_count": 107,
      "outputs": [
        {
          "output_type": "stream",
          "name": "stdout",
          "text": [
            "['hello', 'this is first line', 'this is second line']\n"
          ]
        }
      ]
    },
    {
      "cell_type": "code",
      "source": [
        "# How can you append data to an existing file in Python\n",
        "\n",
        "# Open the file in append mode (\"a\")\n",
        "with open(\"example.txt\", \"a\") as file:\n",
        "    file.write(\"\\nThis is new appended text.\")  # Append new content\n",
        "\n",
        "print(\"Text appended successfully!\")\n"
      ],
      "metadata": {
        "colab": {
          "base_uri": "https://localhost:8080/"
        },
        "id": "-GUeU71OD487",
        "outputId": "67d5e58d-05bf-4c24-a2bb-c8868d8a2f8f"
      },
      "execution_count": 48,
      "outputs": [
        {
          "output_type": "stream",
          "name": "stdout",
          "text": [
            "Text appended successfully!\n"
          ]
        }
      ]
    },
    {
      "cell_type": "code",
      "source": [
        "#Write a Python program that uses a try-except block to handle an error when attempting to access a dictionary key that doesn't exist\n",
        "\n",
        "# Sample dictionary\n",
        "student_scores = {\n",
        "    \"ayush\": 85,\n",
        "    \"shraddha\": 90,\n",
        "    \"anushka\": 78\n",
        "}\n",
        "\n",
        "try:\n",
        "    # Attempt to access a key that may not exist\n",
        "    name = \"rahul\"\n",
        "    score = student_scores[name]\n",
        "    print(f\"{name}'s score: {score}\")\n",
        "\n",
        "except KeyError:\n",
        "    print(f\"Error: The key '{name}' does not exist in the dictionary.\")\n"
      ],
      "metadata": {
        "colab": {
          "base_uri": "https://localhost:8080/"
        },
        "id": "agIhTwDGEW27",
        "outputId": "761fd1e4-080f-48a6-f0a6-f3da046f054e"
      },
      "execution_count": 21,
      "outputs": [
        {
          "output_type": "stream",
          "name": "stdout",
          "text": [
            "Error: The key 'rahul' does not exist in the dictionary.\n"
          ]
        }
      ]
    },
    {
      "cell_type": "code",
      "source": [
        "# Write a program that demonstrates using multiple except blocks to handle different types of exceptions\n",
        "\n",
        "try:\n",
        "    # User input for division\n",
        "    num1 = int(input(\"Enter a number: \"))\n",
        "    num2 = int(input(\"Enter another number: \"))\n",
        "\n",
        "    # Attempt division\n",
        "    result = num1 / num2\n",
        "\n",
        "    # Accessing a dictionary key\n",
        "    my_dict = {\"name\": \"ayush\", \"age\": 25}\n",
        "    value = my_dict[\"height\"]  # KeyError\n",
        "\n",
        "except ZeroDivisionError:\n",
        "    print(\"Error: Division by zero is not allowed.\")\n",
        "\n",
        "except ValueError:\n",
        "    print(\"Error: Invalid input! Please enter only numbers.\")\n",
        "\n",
        "except KeyError:\n",
        "    print(\"Error: The requested key does not exist in the dictionary.\")\n",
        "\n",
        "except Exception as e:\n",
        "    print(f\"An unexpected error occurred: {e}\")\n",
        "\n",
        "else:\n",
        "    print(f\"Result: {result}\")\n",
        "\n",
        "finally:\n",
        "    print(\"Execution completed.\")\n"
      ],
      "metadata": {
        "colab": {
          "base_uri": "https://localhost:8080/"
        },
        "id": "zM63hUZXEwOi",
        "outputId": "907cd6a4-de9b-4045-a9fd-8eed16dedf6b"
      },
      "execution_count": 45,
      "outputs": [
        {
          "output_type": "stream",
          "name": "stdout",
          "text": [
            "Enter a number: 23\n",
            "Enter another number: 25\n",
            "Error: The requested key does not exist in the dictionary.\n",
            "Execution completed.\n"
          ]
        }
      ]
    },
    {
      "cell_type": "code",
      "source": [
        "# How would you check if a file exists before attempting to read it in Python\n",
        "\n",
        "from pathlib import Path\n",
        "\n",
        "file_path = Path(\"example.txt\")\n",
        "\n",
        "if file_path.exists():\n",
        "    with file_path.open(\"r\") as file:\n",
        "        content = file.read()\n",
        "        print(content)\n",
        "else:\n",
        "    print(\"Error: File does not exist!\")\n"
      ],
      "metadata": {
        "colab": {
          "base_uri": "https://localhost:8080/"
        },
        "id": "opHpudBeF0JS",
        "outputId": "63ffc0d8-0e42-48a5-90fe-2879b019af93"
      },
      "execution_count": 44,
      "outputs": [
        {
          "output_type": "stream",
          "name": "stdout",
          "text": [
            "hello\n",
            "this first line\n",
            "this is second line\n"
          ]
        }
      ]
    },
    {
      "cell_type": "code",
      "source": [
        "# Write a program that uses the logging module to log both informational and error messages\n",
        "\n",
        "import logging\n",
        "\n",
        "# Configure logging\n",
        "logging.basicConfig(\n",
        "    filename=\"app.log\",  # Log file name\n",
        "    level=logging.DEBUG,  # Log all levels (DEBUG, INFO, WARNING, ERROR, CRITICAL)\n",
        "    format=\"%(asctime)s - %(levelname)s - %(message)s\"  # Log format\n",
        ")\n",
        "\n",
        "# Log an informational message\n",
        "logging.info(\"The program has started successfully.\")\n",
        "\n",
        "try:\n",
        "    # Simulate a calculation\n",
        "    num1, num2 = 10, 0\n",
        "    result = num1 / num2  # This will cause a ZeroDivisionError\n",
        "except ZeroDivisionError:\n",
        "    logging.error(\"Error: Division by zero occurred.\")\n",
        "\n",
        "# Log another informational message\n",
        "logging.info(\"Program execution completed.\")\n"
      ],
      "metadata": {
        "colab": {
          "base_uri": "https://localhost:8080/"
        },
        "id": "KSSMPuxgF6fI",
        "outputId": "412c2c15-510d-46a1-9a60-622e51ae8a74"
      },
      "execution_count": 43,
      "outputs": [
        {
          "output_type": "stream",
          "name": "stderr",
          "text": [
            "ERROR:root:Error: Division by zero occurred.\n"
          ]
        }
      ]
    },
    {
      "cell_type": "code",
      "source": [
        "# Write a Python program that prints the content of a file and handles the case when the file is empty\n",
        "\n",
        "import os\n",
        "\n",
        "def read_file(file_path):\n",
        "    try:\n",
        "        # Check if the file exists before opening\n",
        "        if not os.path.exists(file_path):\n",
        "            print(\"Error: File not found!\")\n",
        "            return\n",
        "\n",
        "        with open(file_path, \"r\") as file:\n",
        "            content = file.read()\n",
        "\n",
        "            # Check if the file is empty\n",
        "            if not content:\n",
        "                print(\"The file is empty.\")\n",
        "            else:\n",
        "                print(\"File Content:\\n\")\n",
        "                print(content)\n",
        "\n",
        "    except Exception as e:\n",
        "        print(f\"An error occurred: {e}\")\n",
        "\n",
        "# Example usage\n",
        "file_path = \"example.txt\"\n",
        "read_file(file_path)\n"
      ],
      "metadata": {
        "colab": {
          "base_uri": "https://localhost:8080/"
        },
        "id": "Mucr55bEG767",
        "outputId": "869e15a7-d14b-4d9c-da3a-7d8a6ab29051"
      },
      "execution_count": 108,
      "outputs": [
        {
          "output_type": "stream",
          "name": "stdout",
          "text": [
            "File Content:\n",
            "\n",
            "hello\n",
            "this first line\n",
            "this is second line\n",
            "This is new appended text.\n",
            "This is new appended text.\n"
          ]
        }
      ]
    },
    {
      "cell_type": "code",
      "source": [
        "#  Demonstrate how to use memory profiling to check the memory usage of a small program\n",
        "\n",
        "!pip install memory_profiler\n",
        "\n",
        "from memory_profiler import profile\n",
        "\n",
        "@profile\n",
        "def memory_test():\n",
        "    # Create a list with a large number of elements\n",
        "    data = [x ** 2 for x in range(100000)]\n",
        "    return data\n",
        "\n",
        "if __name__ == \"__main__\":\n",
        "    memory_test()\n",
        "\n"
      ],
      "metadata": {
        "colab": {
          "base_uri": "https://localhost:8080/"
        },
        "id": "5J-ufCRpMr4F",
        "outputId": "09f2f970-cb72-4ed1-f80a-dae81747cd2e"
      },
      "execution_count": 77,
      "outputs": [
        {
          "output_type": "stream",
          "name": "stdout",
          "text": [
            "Requirement already satisfied: memory_profiler in /usr/local/lib/python3.11/dist-packages (0.61.0)\n",
            "Requirement already satisfied: psutil in /usr/local/lib/python3.11/dist-packages (from memory_profiler) (5.9.5)\n",
            "ERROR: Could not find file <ipython-input-77-8b121fc4a7c4>\n",
            "NOTE: %mprun can only be used on functions defined in physical files, and not in the IPython environment.\n"
          ]
        }
      ]
    },
    {
      "cell_type": "code",
      "source": [
        "# Write a Python program to create and write a list of numbers to a file, one number per line\n",
        "\n",
        "def write_numbers_to_file(filename, numbers):\n",
        "    try:\n",
        "        with open(filename, \"w\") as file:  # Open file in write mode\n",
        "            for number in numbers:\n",
        "                file.write(f\"{number}\\n\")  # Write each number on a new line\n",
        "        print(f\"Numbers successfully written to '{filename}'.\")\n",
        "    except Exception as e:\n",
        "        print(f\"An error occurred: {e}\")\n",
        "\n",
        "# Example usage\n",
        "numbers_list = list(range(1, 21))  # List of numbers from 1 to 20\n",
        "filename = \"numbers.txt\"\n",
        "write_numbers_to_file(filename, numbers_list)\n"
      ],
      "metadata": {
        "id": "PjYSEYdRTF0h",
        "outputId": "c942c29a-e122-452b-bc0e-86d19fdc350d",
        "colab": {
          "base_uri": "https://localhost:8080/"
        }
      },
      "execution_count": 114,
      "outputs": [
        {
          "output_type": "stream",
          "name": "stdout",
          "text": [
            "Numbers successfully written to 'numbers.txt'.\n"
          ]
        }
      ]
    },
    {
      "cell_type": "code",
      "source": [
        "#  How would you implement a basic logging setup that logs to a file with rotation after 1MB\n",
        "\n",
        "import logging\n",
        "from logging.handlers import RotatingFileHandler\n",
        "\n",
        "# Configure logging\n",
        "log_filename = \"app.log\"\n",
        "log_handler = RotatingFileHandler(log_filename, maxBytes=1_000_000, backupCount=5)\n",
        "\n",
        "# Format log messages\n",
        "formatter = logging.Formatter(\"%(asctime)s - %(levelname)s - %(message)s\")\n",
        "log_handler.setFormatter(formatter)\n",
        "\n",
        "# Set up logger\n",
        "logger = logging.getLogger(\"RotatingLogger\")\n",
        "logger.setLevel(logging.DEBUG)\n",
        "logger.addHandler(log_handler)\n",
        "\n",
        "# Example log messages\n",
        "for i in range(100):  # Simulate logging activity\n",
        "    logger.info(f\"Log entry {i}\")\n"
      ],
      "metadata": {
        "id": "isLUxLV5P28M",
        "outputId": "d917fde9-2775-40af-9058-987397badb3c",
        "colab": {
          "base_uri": "https://localhost:8080/"
        }
      },
      "execution_count": 109,
      "outputs": [
        {
          "output_type": "stream",
          "name": "stderr",
          "text": [
            "INFO:RotatingLogger:Log entry 0\n",
            "INFO:RotatingLogger:Log entry 1\n",
            "INFO:RotatingLogger:Log entry 2\n",
            "INFO:RotatingLogger:Log entry 3\n",
            "INFO:RotatingLogger:Log entry 4\n",
            "INFO:RotatingLogger:Log entry 5\n",
            "INFO:RotatingLogger:Log entry 6\n",
            "INFO:RotatingLogger:Log entry 7\n",
            "INFO:RotatingLogger:Log entry 8\n",
            "INFO:RotatingLogger:Log entry 9\n",
            "INFO:RotatingLogger:Log entry 10\n",
            "INFO:RotatingLogger:Log entry 11\n",
            "INFO:RotatingLogger:Log entry 12\n",
            "INFO:RotatingLogger:Log entry 13\n",
            "INFO:RotatingLogger:Log entry 14\n",
            "INFO:RotatingLogger:Log entry 15\n",
            "INFO:RotatingLogger:Log entry 16\n",
            "INFO:RotatingLogger:Log entry 17\n",
            "INFO:RotatingLogger:Log entry 18\n",
            "INFO:RotatingLogger:Log entry 19\n",
            "INFO:RotatingLogger:Log entry 20\n",
            "INFO:RotatingLogger:Log entry 21\n",
            "INFO:RotatingLogger:Log entry 22\n",
            "INFO:RotatingLogger:Log entry 23\n",
            "INFO:RotatingLogger:Log entry 24\n",
            "INFO:RotatingLogger:Log entry 25\n",
            "INFO:RotatingLogger:Log entry 26\n",
            "INFO:RotatingLogger:Log entry 27\n",
            "INFO:RotatingLogger:Log entry 28\n",
            "INFO:RotatingLogger:Log entry 29\n",
            "INFO:RotatingLogger:Log entry 30\n",
            "INFO:RotatingLogger:Log entry 31\n",
            "INFO:RotatingLogger:Log entry 32\n",
            "INFO:RotatingLogger:Log entry 33\n",
            "INFO:RotatingLogger:Log entry 34\n",
            "INFO:RotatingLogger:Log entry 35\n",
            "INFO:RotatingLogger:Log entry 36\n",
            "INFO:RotatingLogger:Log entry 37\n",
            "INFO:RotatingLogger:Log entry 38\n",
            "INFO:RotatingLogger:Log entry 39\n",
            "INFO:RotatingLogger:Log entry 40\n",
            "INFO:RotatingLogger:Log entry 41\n",
            "INFO:RotatingLogger:Log entry 42\n",
            "INFO:RotatingLogger:Log entry 43\n",
            "INFO:RotatingLogger:Log entry 44\n",
            "INFO:RotatingLogger:Log entry 45\n",
            "INFO:RotatingLogger:Log entry 46\n",
            "INFO:RotatingLogger:Log entry 47\n",
            "INFO:RotatingLogger:Log entry 48\n",
            "INFO:RotatingLogger:Log entry 49\n",
            "INFO:RotatingLogger:Log entry 50\n",
            "INFO:RotatingLogger:Log entry 51\n",
            "INFO:RotatingLogger:Log entry 52\n",
            "INFO:RotatingLogger:Log entry 53\n",
            "INFO:RotatingLogger:Log entry 54\n",
            "INFO:RotatingLogger:Log entry 55\n",
            "INFO:RotatingLogger:Log entry 56\n",
            "INFO:RotatingLogger:Log entry 57\n",
            "INFO:RotatingLogger:Log entry 58\n",
            "INFO:RotatingLogger:Log entry 59\n",
            "INFO:RotatingLogger:Log entry 60\n",
            "INFO:RotatingLogger:Log entry 61\n",
            "INFO:RotatingLogger:Log entry 62\n",
            "INFO:RotatingLogger:Log entry 63\n",
            "INFO:RotatingLogger:Log entry 64\n",
            "INFO:RotatingLogger:Log entry 65\n",
            "INFO:RotatingLogger:Log entry 66\n",
            "INFO:RotatingLogger:Log entry 67\n",
            "INFO:RotatingLogger:Log entry 68\n",
            "INFO:RotatingLogger:Log entry 69\n",
            "INFO:RotatingLogger:Log entry 70\n",
            "INFO:RotatingLogger:Log entry 71\n",
            "INFO:RotatingLogger:Log entry 72\n",
            "INFO:RotatingLogger:Log entry 73\n",
            "INFO:RotatingLogger:Log entry 74\n",
            "INFO:RotatingLogger:Log entry 75\n",
            "INFO:RotatingLogger:Log entry 76\n",
            "INFO:RotatingLogger:Log entry 77\n",
            "INFO:RotatingLogger:Log entry 78\n",
            "INFO:RotatingLogger:Log entry 79\n",
            "INFO:RotatingLogger:Log entry 80\n",
            "INFO:RotatingLogger:Log entry 81\n",
            "INFO:RotatingLogger:Log entry 82\n",
            "INFO:RotatingLogger:Log entry 83\n",
            "INFO:RotatingLogger:Log entry 84\n",
            "INFO:RotatingLogger:Log entry 85\n",
            "INFO:RotatingLogger:Log entry 86\n",
            "INFO:RotatingLogger:Log entry 87\n",
            "INFO:RotatingLogger:Log entry 88\n",
            "INFO:RotatingLogger:Log entry 89\n",
            "INFO:RotatingLogger:Log entry 90\n",
            "INFO:RotatingLogger:Log entry 91\n",
            "INFO:RotatingLogger:Log entry 92\n",
            "INFO:RotatingLogger:Log entry 93\n",
            "INFO:RotatingLogger:Log entry 94\n",
            "INFO:RotatingLogger:Log entry 95\n",
            "INFO:RotatingLogger:Log entry 96\n",
            "INFO:RotatingLogger:Log entry 97\n",
            "INFO:RotatingLogger:Log entry 98\n",
            "INFO:RotatingLogger:Log entry 99\n"
          ]
        }
      ]
    },
    {
      "cell_type": "code",
      "source": [
        "# Write a program that handles both IndexError and KeyError using a try-except block\n",
        "\n",
        "def handle_exceptions():\n",
        "    my_list = [10, 20, 30]\n",
        "    my_dict = {\"a\": 1, \"b\": 2}\n",
        "\n",
        "    try:\n",
        "        # Attempt to access an out-of-range index (causes IndexError)\n",
        "        print(\"List value:\", my_list[5])\n",
        "\n",
        "        # Attempt to access a missing dictionary key (causes KeyError)\n",
        "        print(\"Dictionary value:\", my_dict[\"c\"])\n",
        "\n",
        "    except IndexError:\n",
        "        print(\"Error: List index out of range!\")\n",
        "\n",
        "    except KeyError:\n",
        "        print(\"Error: Dictionary key not found!\")\n",
        "\n",
        "    except Exception as e:\n",
        "        print(f\"An unexpected error occurred: {e}\")\n",
        "\n",
        "# Run the function\n",
        "handle_exceptions()\n"
      ],
      "metadata": {
        "id": "McisX5w0QD8G",
        "outputId": "32c9e3f7-e77b-433f-c6b7-19e90a262fba",
        "colab": {
          "base_uri": "https://localhost:8080/"
        }
      },
      "execution_count": 94,
      "outputs": [
        {
          "output_type": "stream",
          "name": "stdout",
          "text": [
            "Error: List index out of range!\n"
          ]
        }
      ]
    },
    {
      "cell_type": "code",
      "source": [
        "# How would you open a file and read its contents using a context manager in Python\n",
        "\n",
        "def read_file(filename):\n",
        "    try:\n",
        "        with open(filename, \"r\") as file:  # Opens the file in read mode\n",
        "            content = file.read()  # Reads the entire file\n",
        "            print(\"File Content:\\n\")\n",
        "            print(content)\n",
        "    except FileNotFoundError:\n",
        "        print(f\"Error: The file '{filename}' was not found.\")\n",
        "    except Exception as e:\n",
        "        print(f\"An error occurred: {e}\")\n",
        "\n",
        "# Example usage\n",
        "filename = \"example.txt\"  # Change this to your file\n",
        "read_file(filename)\n"
      ],
      "metadata": {
        "id": "BxgFjZ5-QaAw",
        "outputId": "228df37d-6eb3-4625-c0f9-99c21a830d12",
        "colab": {
          "base_uri": "https://localhost:8080/"
        }
      },
      "execution_count": 95,
      "outputs": [
        {
          "output_type": "stream",
          "name": "stdout",
          "text": [
            "File Content:\n",
            "\n",
            "hello\n",
            "this first line\n",
            "this is second line\n",
            "This is new appended text.\n",
            "This is new appended text.\n"
          ]
        }
      ]
    },
    {
      "cell_type": "code",
      "source": [
        "# Write a Python program that reads a file and prints the number of occurrences of a specific word\n",
        "\n",
        "def count_word_occurrences(filename, target_word):\n",
        "    try:\n",
        "        with open(filename, \"r\") as file:\n",
        "            content = file.read().lower()\n",
        "\n",
        "        # Count occurrences of the target word\n",
        "        word_count = content.split().count(target_word.lower())\n",
        "        print(f\"The word '{target_word}' appears {word_count} times in '{filename}'.\")\n",
        "\n",
        "    except FileNotFoundError:\n",
        "        print(f\"Error: The file '{filename}' was not found.\")\n",
        "    except Exception as e:\n",
        "        print(f\"An error occurred: {e}\")\n",
        "\n",
        "# Example usage\n",
        "filename = \"example.txt\"\n",
        "target_word = \"hello\"\n",
        "count_word_occurrences(filename, target_word)\n"
      ],
      "metadata": {
        "id": "noQ_hBzSQh6z",
        "outputId": "9a2cd24f-232b-41f6-8134-850e60517d4e",
        "colab": {
          "base_uri": "https://localhost:8080/"
        }
      },
      "execution_count": 97,
      "outputs": [
        {
          "output_type": "stream",
          "name": "stdout",
          "text": [
            "The word 'hello' appears 1 times in 'example.txt'.\n"
          ]
        }
      ]
    },
    {
      "cell_type": "code",
      "source": [
        "#  How can you check if a file is empty before attempting to read its contents\n",
        "\n",
        "def is_file_empty_alt(filename):\n",
        "    try:\n",
        "        with open(filename, \"r\") as file:\n",
        "            return file.read(1) == \"\"  # Read one character\n",
        "    except FileNotFoundError:\n",
        "        print(f\"Error: The file '{filename}' does not exist.\")\n",
        "        return False\n",
        "\n",
        "# Example usage\n",
        "if is_file_empty_alt(filename):\n",
        "    print(f\"The file '{filename}' is empty.\")\n",
        "else:\n",
        "    print(f\"The file '{filename}' is not empty.\")\n"
      ],
      "metadata": {
        "id": "1JjTZVl2Q6zo",
        "outputId": "b07eab3b-0c5f-4893-a5fc-48ddbb83be4c",
        "colab": {
          "base_uri": "https://localhost:8080/"
        }
      },
      "execution_count": 98,
      "outputs": [
        {
          "output_type": "stream",
          "name": "stdout",
          "text": [
            "The file 'example.txt' is not empty.\n"
          ]
        }
      ]
    },
    {
      "cell_type": "code",
      "source": [
        "# Write a Python program that writes to a log file when an error occurs during file handling\n",
        "\n",
        "import logging\n",
        "\n",
        "# Configure logging\n",
        "logging.basicConfig(filename=\"file_errors.log\", level=logging.ERROR,\n",
        "                    format=\"%(asctime)s - %(levelname)s - %(message)s\")\n",
        "\n",
        "def read_file(filename):\n",
        "    try:\n",
        "        with open(filename, \"r\") as file:\n",
        "            content = file.read()\n",
        "            print(\"File Content:\\n\", content)\n",
        "    except FileNotFoundError:\n",
        "        logging.error(f\"File '{filename}' not found.\")\n",
        "        print(f\"Error: The file '{filename}' does not exist.\")\n",
        "    except PermissionError:\n",
        "        logging.error(f\"Permission denied for file '{filename}'.\")\n",
        "        print(f\"Error: Permission denied for '{filename}'.\")\n",
        "    except Exception as e:\n",
        "        logging.error(f\"An unexpected error occurred: {e}\")\n",
        "        print(f\"An unexpected error occurred: {e}\")\n",
        "\n",
        "# Example usage\n",
        "filename = \"nonexistent.txt\"\n",
        "read_file(filename)\n"
      ],
      "metadata": {
        "id": "_WIZwZ2BRHzQ",
        "outputId": "79efc396-d065-4a6a-d115-8b6c9b198bec",
        "colab": {
          "base_uri": "https://localhost:8080/"
        }
      },
      "execution_count": 104,
      "outputs": [
        {
          "output_type": "stream",
          "name": "stderr",
          "text": [
            "ERROR:root:File 'nonexistent.txt' not found.\n"
          ]
        },
        {
          "output_type": "stream",
          "name": "stdout",
          "text": [
            "Error: The file 'nonexistent.txt' does not exist.\n"
          ]
        }
      ]
    }
  ]
}